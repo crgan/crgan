{
 "cells": [
  {
   "cell_type": "markdown",
   "metadata": {},
   "source": [
    "# Test the CRGAN\n",
    "\n",
    "This demo is based on UCSDped2 dataset, please set `config/env.py` as:\n",
    "```\n",
    "benchmark = 'UCSDped2'\n",
    "base_dir = '~/Data/anomaly-detection-datasets'\n",
    "```\n",
    "Of course if you want to test on other dataset, you can also set `benchmark` as `Avenue` etc."
   ]
  },
  {
   "cell_type": "code",
   "execution_count": 1,
   "metadata": {},
   "outputs": [],
   "source": [
    "import torch\n",
    "import pdb\n",
    "\n",
    "device = torch.device(\"cuda:{}\".format(0) if torch.cuda.is_available() else \"cpu\")"
   ]
  },
  {
   "cell_type": "code",
   "execution_count": 2,
   "metadata": {},
   "outputs": [],
   "source": [
    "from util.data import PreprocessFolder\n",
    "from config import dataset_config\n",
    "\n",
    "test_dataset = PreprocessFolder(dataset_config[\"test_dataset\"])"
   ]
  },
  {
   "cell_type": "code",
   "execution_count": 3,
   "metadata": {},
   "outputs": [],
   "source": [
    "def collate(batch):\n",
    "    inputs = torch.stack([item[0] for item in batch], dim=0)\n",
    "    bboxes = [item[1] for item in batch]\n",
    "    labels = torch.tensor([item[2] for item in batch], dtype=torch.long)\n",
    "    return inputs, bboxes, labels"
   ]
  },
  {
   "cell_type": "code",
   "execution_count": 4,
   "metadata": {},
   "outputs": [],
   "source": [
    "from torch.utils.data import DataLoader\n",
    "\n",
    "test_data = DataLoader(test_dataset, batch_size=16, shuffle=False, num_workers=2, collate_fn=collate)"
   ]
  },
  {
   "cell_type": "code",
   "execution_count": 5,
   "metadata": {},
   "outputs": [],
   "source": [
    "bbox_size = (64, 64)\n",
    "\n",
    "def bboxes2masks(inputs, bboxes):\n",
    "    masks = torch.zeros(inputs.shape[0], 5, inputs.shape[2], inputs.shape[3]).to(inputs.device)\n",
    "    for b, bbox in enumerate(bboxes):\n",
    "        for points in bbox:\n",
    "            x_0, y_0, x_1, y_1 = points\n",
    "            width = x_1 - x_0\n",
    "            height = y_1 - y_0\n",
    "            i = int(round(y_0.item()))\n",
    "            j = int(round(x_0.item()))\n",
    "            h = int(round(height.item()))\n",
    "            w = int(round(width.item()))\n",
    "            masks[b, :3, i:i + h, j:j + w] = 1.0\n",
    "    return masks\n",
    "\n",
    "\n",
    "def bboxes2regions(inputs, bboxes):\n",
    "    return torchvision.ops.roi_align(inputs, bboxes, bbox_size)"
   ]
  },
  {
   "cell_type": "code",
   "execution_count": 6,
   "metadata": {},
   "outputs": [],
   "source": [
    "from model.crgan import Generator, SDiscriminator, RDiscriminator\n",
    "\n",
    "g_model = Generator().to(device)\n",
    "d_model_s = SDiscriminator().to(device)\n",
    "d_model_r = RDiscriminator().to(device)"
   ]
  },
  {
   "cell_type": "code",
   "execution_count": 7,
   "metadata": {},
   "outputs": [
    {
     "data": {
      "text/plain": [
       "<All keys matched successfully>"
      ]
     },
     "execution_count": 7,
     "metadata": {},
     "output_type": "execute_result"
    }
   ],
   "source": [
    "from config import benchmark\n",
    "\n",
    "if benchmark == 'Avenue':\n",
    "    models = torch.load('parameters/train_avenue_exp.pth')\n",
    "elif benchmark == 'UCSDped1':\n",
    "    models = torch.load('parameters/train_ucsd1_exp.pth')\n",
    "elif benchmark == 'UCSDped2':\n",
    "    models = torch.load('parameters/train_ucsd2_exp.pth')\n",
    "elif benchmark == 'ShanghaiTech':\n",
    "    models = torch.load('parameters/train_shanghaitech_exp.pth')\n",
    "elif benchmark == 'ShanghaiTech1':\n",
    "    models = torch.load('parameters/train_shanghaitech1_exp.pth')\n",
    "elif benchmark == 'UMN':\n",
    "    models = torch.load('parameters/train_umn_exp.pth')\n",
    "    \n",
    "g_model.load_state_dict(models['g_model'])\n",
    "d_model_s.load_state_dict(models['d_model_s'])\n",
    "d_model_r.load_state_dict(models['d_model_r'])"
   ]
  },
  {
   "cell_type": "code",
   "execution_count": 8,
   "metadata": {},
   "outputs": [],
   "source": [
    "gamma = 0.5\n",
    "\n",
    "def forward(inputs, bboxes):\n",
    "    with torch.set_grad_enabled(False):\n",
    "\n",
    "        masks = bboxes2masks(inputs, bboxes)\n",
    "        masked_inputs = inputs * (1 - masks)\n",
    "\n",
    "        motion_condition = inputs[:, 3:]\n",
    "        outputs = g_model(masked_inputs)\n",
    "        outputs_condition = torch.cat([outputs, motion_condition], dim=1)\n",
    "        prediction_scene = -d_model_s(outputs_condition)\n",
    "\n",
    "        outputs_condition = outputs_condition\n",
    "\n",
    "        prediction_regions = torch.zeros_like(prediction_scene)\n",
    "        for i, bbox in enumerate(bboxes):\n",
    "            if bbox.shape[0] == 0:\n",
    "                continue\n",
    "            output_regions = bboxes2regions(outputs_condition[i].unsqueeze(0), [bbox])\n",
    "            prediction_regions[i] = (-d_model_r(output_regions)).max()\n",
    "    \n",
    "    return prediction_scene * (1 - gamma) + prediction_regions * gamma\n",
    "#     return prediction_scene"
   ]
  },
  {
   "cell_type": "code",
   "execution_count": 9,
   "metadata": {},
   "outputs": [
    {
     "name": "stderr",
     "output_type": "stream",
     "text": [
      "/anaconda3/lib/python3.7/site-packages/ipykernel_launcher.py:7: TqdmDeprecationWarning: This function will be removed in tqdm==5.0.0\n",
      "Please use `tqdm.notebook.tqdm` instead of `tqdm.tqdm_notebook`\n",
      "  import sys\n"
     ]
    },
    {
     "data": {
      "application/vnd.jupyter.widget-view+json": {
       "model_id": "9e4bc96f2b0c4951a5d0af65561c3044",
       "version_major": 2,
       "version_minor": 0
      },
      "text/plain": [
       "HBox(children=(IntProgress(value=0, max=126), HTML(value='')))"
      ]
     },
     "metadata": {},
     "output_type": "display_data"
    }
   ],
   "source": [
    "import torchvision\n",
    "from tqdm import tqdm_notebook as tqdm\n",
    "\n",
    "result = {}\n",
    "\n",
    "total = len(test_data)\n",
    "pbar = tqdm(total=total)\n",
    "\n",
    "for i, (inputs, bboxes, labels) in enumerate(test_data):\n",
    "    inputs = inputs.to(device)\n",
    "    for j, bbox in enumerate(bboxes):\n",
    "        bboxes[j] = bbox.to(device)\n",
    "    predictions = forward(inputs, bboxes)\n",
    "    \n",
    "    for k, prediction in enumerate(predictions):\n",
    "        label = labels[k].item()\n",
    "        if not (label in result):\n",
    "            result[label] = []\n",
    "        result[label].append(prediction.item())\n",
    "\n",
    "    pbar.update(1)"
   ]
  },
  {
   "cell_type": "code",
   "execution_count": 10,
   "metadata": {},
   "outputs": [],
   "source": [
    "def get_ground_truth(dataset, total):\n",
    "    ground_truth = {}\n",
    "    for video_idx, abnormal_ranges in dataset.items():\n",
    "        frame_labels = np.zeros(total[video_idx], dtype=int)\n",
    "        for abnormal_range in abnormal_ranges:\n",
    "            start_idx, end_idx = abnormal_range\n",
    "            abnormal_range_idx = list(range(start_idx, end_idx))\n",
    "            frame_labels[abnormal_range_idx] = 1\n",
    "        ground_truth[video_idx] = frame_labels.tolist()\n",
    "    return ground_truth"
   ]
  },
  {
   "cell_type": "code",
   "execution_count": 11,
   "metadata": {},
   "outputs": [],
   "source": [
    "import numpy as np\n",
    "from config import labels_config\n",
    "\n",
    "ground_truth = get_ground_truth(labels_config[\"ground_truth\"], labels_config[\"total\"])"
   ]
  },
  {
   "cell_type": "code",
   "execution_count": 12,
   "metadata": {},
   "outputs": [],
   "source": [
    "from scipy.signal import savgol_filter\n",
    "\n",
    "def score_norm(score, epsilon=1e-8):\n",
    "    return (score - score.min()) / (score.max() - score.min() + epsilon)\n",
    "\n",
    "\n",
    "if benchmark == 'UCSDped2':\n",
    "    def score_smoothing(score, polyorder=1):\n",
    "        score_len = score.shape[0] // 9\n",
    "        if score_len % 2 == 0:\n",
    "            score_len += 1\n",
    "        score = savgol_filter(score, score_len, polyorder, mode='constant')\n",
    "\n",
    "        return score\n",
    "elif benchmark == 'Avenue':\n",
    "    def score_smoothing(score, polyorder=1):\n",
    "        score_len = score.shape[0] // 9\n",
    "        if score_len % 2 == 0:\n",
    "            score_len += 1\n",
    "        score = savgol_filter(score, score_len, polyorder, mode='constant')\n",
    "\n",
    "        return score\n",
    "else:\n",
    "    def score_smoothing(score, polyorder=3):\n",
    "        score_len = score.shape[0] // 9\n",
    "        if score_len % 2 == 0:\n",
    "            score_len += 1\n",
    "        score = savgol_filter(score, score_len, polyorder)\n",
    "\n",
    "        return score"
   ]
  },
  {
   "cell_type": "code",
   "execution_count": 13,
   "metadata": {},
   "outputs": [],
   "source": [
    "import numpy as np\n",
    "import csv\n",
    "from sklearn.metrics import roc_auc_score\n",
    "import matplotlib.pyplot as plt\n",
    "%matplotlib inline\n",
    "\n",
    "def get_graph(result, ground_truth):\n",
    "    results = []\n",
    "    ground_truths = []\n",
    "    boundaries = [0]\n",
    "    \n",
    "    with open('both_result.csv','wt') as file:\n",
    "        cw = csv.writer(file)\n",
    "        for video_idx in ground_truth:\n",
    "            video_ground_truth = np.array(ground_truth[video_idx])\n",
    "            ground_truths.append(video_ground_truth)\n",
    "            video_result = np.array(result[video_idx])\n",
    "            video_result = score_norm(video_result)\n",
    "            video_result = score_smoothing(video_result)\n",
    "            results.append(video_result)\n",
    "            boundaries.append(boundaries[-1]+len(video_result))\n",
    "\n",
    "        ground_truths = np.hstack(ground_truths)\n",
    "        results = np.hstack(results)\n",
    "\n",
    "        draw_plot(ground_truths, results, boundaries)\n",
    "        cw.writerow(results)\n",
    "        cw.writerow(ground_truths)\n",
    "\n",
    "    return ground_truths, results\n",
    "\n",
    "def draw_plot(video_ground_truth, video_result, boundaries):\n",
    "    frame_len = len(video_ground_truth)\n",
    "    x = np.arange(frame_len)\n",
    "    for i, boundary in enumerate(boundaries[:-1:2]):\n",
    "        plt.bar(boundary, 1, boundaries[i+1]-boundaries[i], color='pink', align='edge')\n",
    "    plt.plot(x, video_ground_truth, color='red', label='ground_truth')\n",
    "    plt.plot(x, video_result, color='blue', label='predict')\n",
    "    plt.show()"
   ]
  },
  {
   "cell_type": "code",
   "execution_count": 14,
   "metadata": {},
   "outputs": [
    {
     "data": {
      "image/png": "[encoded data removed]",
      "text/plain": [
       "<Figure size 432x288 with 1 Axes>"
      ]
     },
     "metadata": {
      "needs_background": "light"
     },
     "output_type": "display_data"
    }
   ],
   "source": [
    "ground_truths, results = get_graph(result, ground_truth)"
   ]
  },
  {
   "cell_type": "code",
   "execution_count": 15,
   "metadata": {},
   "outputs": [],
   "source": [
    "def get_auc(result, ground_truth):\n",
    "    scores = []\n",
    "    for video_idx in ground_truth:\n",
    "        video_ground_truth = np.array(ground_truth[video_idx])\n",
    "        video_result = np.array(result[video_idx])\n",
    "        video_result = score_norm(video_result)\n",
    "        video_result = score_smoothing(video_result)\n",
    "        score = roc_auc_score(video_ground_truth, video_result)\n",
    "        scores.append(score)\n",
    "    return np.array(scores).mean()"
   ]
  },
  {
   "cell_type": "code",
   "execution_count": 16,
   "metadata": {},
   "outputs": [],
   "source": [
    "auc = get_auc(result, ground_truth)"
   ]
  },
  {
   "cell_type": "code",
   "execution_count": 17,
   "metadata": {},
   "outputs": [
    {
     "data": {
      "text/plain": [
       "0.9915315823615879"
      ]
     },
     "execution_count": 17,
     "metadata": {},
     "output_type": "execute_result"
    }
   ],
   "source": [
    "auc"
   ]
  },
  {
   "cell_type": "code",
   "execution_count": 18,
   "metadata": {},
   "outputs": [],
   "source": [
    "from sklearn import metrics\n",
    "fpr, tpr, thresholds = metrics.roc_curve(ground_truths, results)"
   ]
  },
  {
   "cell_type": "code",
   "execution_count": 19,
   "metadata": {},
   "outputs": [
    {
     "data": {
      "image/png": "[encoded data removed]",
      "text/plain": [
       "<Figure size 432x288 with 1 Axes>"
      ]
     },
     "metadata": {
      "needs_background": "light"
     },
     "output_type": "display_data"
    }
   ],
   "source": [
    "plt.figure()\n",
    "lw = 2\n",
    "plt.plot(fpr, tpr, color='darkorange', lw=lw, label='CRGAN')\n",
    "plt.plot([0, 1], [0, 1], color='navy', lw=lw, linestyle='--')\n",
    "plt.xlim([0.0, 1.0])\n",
    "plt.ylim([0.0, 1.05])\n",
    "plt.xlabel('False Positive Rate')\n",
    "plt.ylabel('True Positive Rate')\n",
    "plt.title('ROC')\n",
    "plt.legend(loc=\"lower right\")\n",
    "plt.show()"
   ]
  },
  {
   "cell_type": "code",
   "execution_count": null,
   "metadata": {},
   "outputs": [],
   "source": []
  }
 ],
 "metadata": {
  "kernelspec": {
   "display_name": "Python 3",
   "language": "python",
   "name": "python3"
  },
  "language_info": {
   "codemirror_mode": {
    "name": "ipython",
    "version": 3
   },
   "file_extension": ".py",
   "mimetype": "text/x-python",
   "name": "python",
   "nbconvert_exporter": "python",
   "pygments_lexer": "ipython3",
   "version": "3.7.2"
  }
 },
 "nbformat": 4,
 "nbformat_minor": 2
}
